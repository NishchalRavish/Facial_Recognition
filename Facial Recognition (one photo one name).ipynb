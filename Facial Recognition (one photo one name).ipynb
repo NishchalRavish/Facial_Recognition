{
 "cells": [
  {
   "cell_type": "code",
   "execution_count": 1,
   "id": "grateful-catalyst",
   "metadata": {},
   "outputs": [],
   "source": [
    "import numpy as np\n",
    "import face_recognition as fr\n",
    "import cv2\n",
    "\n",
    "video_capture = cv2.VideoCapture(0)\n",
    "\n",
    "my_image = fr.load_image_file(\"WhatsApp Image 2021-04-10 at 13.23.08.jpeg\") # Load the image\n",
    "my_face_encoding = fr.face_encodings(my_image)[0] #Memorization of the face \n",
    "# [0] is an array and is zero because it has only my image, more the no of image, change the array lenght\n",
    "\n",
    "\n",
    "known_face_encondings = [my_face_encoding]\n",
    "known_face_names = [\"Nishchal\"]\n",
    "\n",
    "while True: #To take all frameworks from the cam\n",
    "    ret, frame = video_capture.read()\n",
    "\n",
    "    rgb_frame = frame[:, :, ::-1]  # To change color to rgb as opencv takes bw\n",
    "\n",
    "    face_locations = fr.face_locations(rgb_frame)  #Used to check faces by using face locations \n",
    "    face_encodings = fr.face_encodings(rgb_frame, face_locations) # Deetect which faces are in the frame \n",
    "\n",
    "    for (top, right, bottom, left), face_encoding in zip(face_locations, face_encodings): #zip allows us to iterate between two vars\n",
    "\n",
    "        matches = fr.compare_faces(known_face_encondings, face_encoding) # Used to match the faces and threshold is ideallly 0.6 and can be changed by adding it \n",
    "\n",
    "        name = \"Unknown please verify your image\"\n",
    "\n",
    "        face_distances = fr.face_distance(known_face_encondings, face_encoding) # Used to cal distances bw faces\n",
    "\n",
    "        best_match_index = np.argmin(face_distances) # Most suitable pick of the candidate\n",
    "        if matches[best_match_index]:\n",
    "            name = known_face_names[best_match_index]\n",
    "        \n",
    "        cv2.rectangle(frame, (left, top), (right, bottom), (0, 0, 255), 2) # Rectangle around face and color is 0,255 and 2 is thickness\n",
    "\n",
    "        cv2.rectangle(frame, (left, bottom -35), (right, bottom), (0, 0, 255), cv2.FILLED) # Rectangle for name\n",
    "        font = cv2.FONT_HERSHEY_SIMPLEX\n",
    "        cv2.putText(frame, name, (left + 6, bottom - 6), font, 1.0, (255, 255, 255), 1)\n",
    "\n",
    "    cv2.imshow('Authentiction', frame)\n",
    "\n",
    "    if cv2.waitKey(1) & 0xFF == ord('q'):\n",
    "        break\n",
    "\n",
    "video_capture.release()\n",
    "cv2.destroyAllWindows()"
   ]
  },
  {
   "cell_type": "markdown",
   "id": "remarkable-scott",
   "metadata": {},
   "source": [
    "Known face encoding is through pictures and face encoding is through the camera capture which is live\n",
    "The distance is that eucalidian dist ( big dist dont resemble) small dist (Likely resmeble)"
   ]
  }
 ],
 "metadata": {
  "kernelspec": {
   "display_name": "Python 3",
   "language": "python",
   "name": "python3"
  },
  "language_info": {
   "codemirror_mode": {
    "name": "ipython",
    "version": 3
   },
   "file_extension": ".py",
   "mimetype": "text/x-python",
   "name": "python",
   "nbconvert_exporter": "python",
   "pygments_lexer": "ipython3",
   "version": "3.8.5"
  }
 },
 "nbformat": 4,
 "nbformat_minor": 5
}
